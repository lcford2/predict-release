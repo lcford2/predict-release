{
 "cells": [
  {
   "cell_type": "code",
   "execution_count": 1,
   "id": "515c4d65-f78a-46a2-9607-a50fa91e7ec2",
   "metadata": {},
   "outputs": [],
   "source": [
    "import pandas as pd\n",
    "import matplotlib.pyplot as plt"
   ]
  },
  {
   "cell_type": "code",
   "execution_count": 5,
   "id": "8a091293-7530-45c5-a130-05b246990c18",
   "metadata": {},
   "outputs": [],
   "source": [
    "df = pd.read_csv(\"./cry_data.csv\")"
   ]
  },
  {
   "cell_type": "code",
   "execution_count": 6,
   "id": "69bc49c4-0bdd-465c-89dd-a82ea9603406",
   "metadata": {},
   "outputs": [
    {
     "data": {
      "text/html": [
       "<div>\n",
       "<style scoped>\n",
       "    .dataframe tbody tr th:only-of-type {\n",
       "        vertical-align: middle;\n",
       "    }\n",
       "\n",
       "    .dataframe tbody tr th {\n",
       "        vertical-align: top;\n",
       "    }\n",
       "\n",
       "    .dataframe thead th {\n",
       "        text-align: right;\n",
       "    }\n",
       "</style>\n",
       "<table border=\"1\" class=\"dataframe\">\n",
       "  <thead>\n",
       "    <tr style=\"text-align: right;\">\n",
       "      <th></th>\n",
       "      <th>site_name</th>\n",
       "      <th>datetime</th>\n",
       "      <th>actual</th>\n",
       "      <th>model</th>\n",
       "    </tr>\n",
       "  </thead>\n",
       "  <tbody>\n",
       "    <tr>\n",
       "      <th>0</th>\n",
       "      <td>CRYSTAL</td>\n",
       "      <td>2015-08-13</td>\n",
       "      <td>0.908739</td>\n",
       "      <td>0.914142</td>\n",
       "    </tr>\n",
       "    <tr>\n",
       "      <th>1</th>\n",
       "      <td>CRYSTAL</td>\n",
       "      <td>2015-08-14</td>\n",
       "      <td>0.908025</td>\n",
       "      <td>0.916028</td>\n",
       "    </tr>\n",
       "    <tr>\n",
       "      <th>2</th>\n",
       "      <td>CRYSTAL</td>\n",
       "      <td>2015-08-15</td>\n",
       "      <td>0.911785</td>\n",
       "      <td>0.918571</td>\n",
       "    </tr>\n",
       "    <tr>\n",
       "      <th>3</th>\n",
       "      <td>CRYSTAL</td>\n",
       "      <td>2015-08-16</td>\n",
       "      <td>0.910861</td>\n",
       "      <td>0.919691</td>\n",
       "    </tr>\n",
       "    <tr>\n",
       "      <th>4</th>\n",
       "      <td>CRYSTAL</td>\n",
       "      <td>2015-08-17</td>\n",
       "      <td>0.897438</td>\n",
       "      <td>0.907092</td>\n",
       "    </tr>\n",
       "    <tr>\n",
       "      <th>...</th>\n",
       "      <td>...</td>\n",
       "      <td>...</td>\n",
       "      <td>...</td>\n",
       "      <td>...</td>\n",
       "    </tr>\n",
       "    <tr>\n",
       "      <th>2249</th>\n",
       "      <td>CRYSTAL</td>\n",
       "      <td>2021-10-09</td>\n",
       "      <td>0.529307</td>\n",
       "      <td>6.629897</td>\n",
       "    </tr>\n",
       "    <tr>\n",
       "      <th>2250</th>\n",
       "      <td>CRYSTAL</td>\n",
       "      <td>2021-10-10</td>\n",
       "      <td>0.529307</td>\n",
       "      <td>6.629897</td>\n",
       "    </tr>\n",
       "    <tr>\n",
       "      <th>2251</th>\n",
       "      <td>CRYSTAL</td>\n",
       "      <td>2021-10-11</td>\n",
       "      <td>0.529307</td>\n",
       "      <td>6.629897</td>\n",
       "    </tr>\n",
       "    <tr>\n",
       "      <th>2252</th>\n",
       "      <td>CRYSTAL</td>\n",
       "      <td>2021-10-12</td>\n",
       "      <td>0.901421</td>\n",
       "      <td>6.629897</td>\n",
       "    </tr>\n",
       "    <tr>\n",
       "      <th>2253</th>\n",
       "      <td>CRYSTAL</td>\n",
       "      <td>2021-10-13</td>\n",
       "      <td>1.056045</td>\n",
       "      <td>6.629897</td>\n",
       "    </tr>\n",
       "  </tbody>\n",
       "</table>\n",
       "<p>2254 rows × 4 columns</p>\n",
       "</div>"
      ],
      "text/plain": [
       "     site_name    datetime    actual     model\n",
       "0      CRYSTAL  2015-08-13  0.908739  0.914142\n",
       "1      CRYSTAL  2015-08-14  0.908025  0.916028\n",
       "2      CRYSTAL  2015-08-15  0.911785  0.918571\n",
       "3      CRYSTAL  2015-08-16  0.910861  0.919691\n",
       "4      CRYSTAL  2015-08-17  0.897438  0.907092\n",
       "...        ...         ...       ...       ...\n",
       "2249   CRYSTAL  2021-10-09  0.529307  6.629897\n",
       "2250   CRYSTAL  2021-10-10  0.529307  6.629897\n",
       "2251   CRYSTAL  2021-10-11  0.529307  6.629897\n",
       "2252   CRYSTAL  2021-10-12  0.901421  6.629897\n",
       "2253   CRYSTAL  2021-10-13  1.056045  6.629897\n",
       "\n",
       "[2254 rows x 4 columns]"
      ]
     },
     "execution_count": 6,
     "metadata": {},
     "output_type": "execute_result"
    }
   ],
   "source": [
    "df"
   ]
  },
  {
   "cell_type": "code",
   "execution_count": 7,
   "id": "2afc7e7c-c337-4cd7-be9a-75a48f20caa2",
   "metadata": {},
   "outputs": [],
   "source": [
    "df = df.set_index(\"datetime\")"
   ]
  },
  {
   "cell_type": "code",
   "execution_count": 10,
   "id": "5b471523-0490-4a21-b28e-1f8418660dea",
   "metadata": {},
   "outputs": [
    {
     "data": {
      "image/png": "[encoded data removed]",
      "text/plain": [
       "<Figure size 432x288 with 1 Axes>"
      ]
     },
     "metadata": {
      "needs_background": "light"
     },
     "output_type": "display_data"
    }
   ],
   "source": [
    "df.drop(\"site_name\", axis=1).plot()\n",
    "plt.show()"
   ]
  }
 ],
 "metadata": {
  "kernelspec": {
   "display_name": "sry-env",
   "language": "python",
   "name": "sry-env"
  },
  "language_info": {
   "codemirror_mode": {
    "name": "ipython",
    "version": 3
   },
   "file_extension": ".py",
   "mimetype": "text/x-python",
   "name": "python",
   "nbconvert_exporter": "python",
   "pygments_lexer": "ipython3",
   "version": "3.9.2"
  }
 },
 "nbformat": 4,
 "nbformat_minor": 5
}
