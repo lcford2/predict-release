{
 "cells": [
  {
   "cell_type": "code",
   "execution_count": 1,
   "metadata": {},
   "outputs": [],
   "source": [
    "import geopandas as pd\n",
    "import pandas as pd"
   ]
  },
  {
   "cell_type": "code",
   "execution_count": 4,
   "metadata": {},
   "outputs": [],
   "source": [
    "df = pd.read_csv(\"../geo_data/my_res_nid_combo.csv\", index_col=0)"
   ]
  },
  {
   "cell_type": "code",
   "execution_count": 6,
   "metadata": {},
   "outputs": [],
   "source": [
    "df = df.set_index(\"site_name\")\n",
    "rbasins = pd.read_pickle(\"../pickles/res_basin_map.pickle\")\n",
    "rbasins = rbasins.replace({\"upper_col\": \"colorado\", \"lower_col\": \"colorado\"})\n",
    "df[\"basin\"] = rbasins"
   ]
  },
  {
   "cell_type": "code",
   "execution_count": 8,
   "metadata": {},
   "outputs": [
    {
     "data": {
      "text/plain": [
       "Index(['site_name_act', 'rts', 'rel_inf_corr', 'max_sto', 'group', 'lat',\n",
       "       'long', 'geometry', 'dist', 'nid_idx', 'Dam_Name', 'Other_Dam_Name',\n",
       "       'State_ID', 'NID_ID', 'Num_Separate_Struct', 'Other_Structure_ID',\n",
       "       'Longitude', 'Latitude', 'Section', 'County', 'River', 'Owner_Name',\n",
       "       'Owner_Type', 'Private_Dam', 'Dam_Designer', 'Dam_Type', 'Core',\n",
       "       'Foundation', 'Primary_Purpose', 'All_Purposes', 'Year_Completed',\n",
       "       'Year_Modified', 'Dam_Length', 'Dam_Height', 'Structural_Height',\n",
       "       'Hydraulic_Height', 'NID_Height', 'Max_Discharge', 'Max_Storage',\n",
       "       'Normal_Storage', 'NID_Storage', 'Surface_Area', 'Drainage_Area', 'EAP',\n",
       "       'Inspection_Date', 'Inspection_Frequency', 'Spillway_Type',\n",
       "       'Spillway_Width', 'Outlet_Gates', 'Volume', 'Num_Locks', 'Length_Locks',\n",
       "       'Width_Locks', 'Permitting_Authority', 'Inspection_Authority',\n",
       "       'Enforcement_Authority', 'Jurisdictional_Dam', 'State_Reg_Dam',\n",
       "       'State_Reg_Agency', 'Fed_Funding', 'Fed_Design', 'Fed_Construction',\n",
       "       'Fed_Regulatory', 'Fed_Inspection', 'Fed_Operation', 'Fed_Owner',\n",
       "       'Fed_Other', 'Source_Agency', 'State', 'Submit_Date', 'Url_Address',\n",
       "       'Congress_Rep', 'Political_Party', 'Congress_District', 'basin'],\n",
       "      dtype='object')"
      ]
     },
     "execution_count": 8,
     "metadata": {},
     "output_type": "execute_result"
    }
   ],
   "source": [
    "df.columns"
   ]
  },
  {
   "cell_type": "code",
   "execution_count": 10,
   "metadata": {},
   "outputs": [
    {
     "data": {
      "text/html": [
       "<div>\n",
       "<style scoped>\n",
       "    .dataframe tbody tr th:only-of-type {\n",
       "        vertical-align: middle;\n",
       "    }\n",
       "\n",
       "    .dataframe tbody tr th {\n",
       "        vertical-align: top;\n",
       "    }\n",
       "\n",
       "    .dataframe thead th {\n",
       "        text-align: right;\n",
       "    }\n",
       "</style>\n",
       "<table border=\"1\" class=\"dataframe\">\n",
       "  <thead>\n",
       "    <tr style=\"text-align: right;\">\n",
       "      <th></th>\n",
       "      <th>max_sto</th>\n",
       "      <th>Max_Storage</th>\n",
       "    </tr>\n",
       "    <tr>\n",
       "      <th>basin</th>\n",
       "      <th></th>\n",
       "      <th></th>\n",
       "    </tr>\n",
       "  </thead>\n",
       "  <tbody>\n",
       "    <tr>\n",
       "      <th>colorado</th>\n",
       "      <td>66199.662824</td>\n",
       "      <td>71504.678</td>\n",
       "    </tr>\n",
       "    <tr>\n",
       "      <th>missouri</th>\n",
       "      <td>82996.003710</td>\n",
       "      <td>80868.997</td>\n",
       "    </tr>\n",
       "    <tr>\n",
       "      <th>pnw</th>\n",
       "      <td>9225.140000</td>\n",
       "      <td>14170.000</td>\n",
       "    </tr>\n",
       "    <tr>\n",
       "      <th>tva</th>\n",
       "      <td>23720.221488</td>\n",
       "      <td>20277.961</td>\n",
       "    </tr>\n",
       "  </tbody>\n",
       "</table>\n",
       "</div>"
      ],
      "text/plain": [
       "               max_sto  Max_Storage\n",
       "basin                              \n",
       "colorado  66199.662824    71504.678\n",
       "missouri  82996.003710    80868.997\n",
       "pnw        9225.140000    14170.000\n",
       "tva       23720.221488    20277.961"
      ]
     },
     "execution_count": 10,
     "metadata": {},
     "output_type": "execute_result"
    }
   ],
   "source": [
    "max_stos = df.groupby(\"basin\")[[\"max_sto\", \"Max_Storage\"]].sum()\n",
    "max_stos[\"Max_Storage\"] /= 1000\n",
    "max_stos"
   ]
  },
  {
   "cell_type": "code",
   "execution_count": 14,
   "metadata": {},
   "outputs": [
    {
     "data": {
      "text/html": [
       "<div>\n",
       "<style scoped>\n",
       "    .dataframe tbody tr th:only-of-type {\n",
       "        vertical-align: middle;\n",
       "    }\n",
       "\n",
       "    .dataframe tbody tr th {\n",
       "        vertical-align: top;\n",
       "    }\n",
       "\n",
       "    .dataframe thead th {\n",
       "        text-align: right;\n",
       "    }\n",
       "</style>\n",
       "<table border=\"1\" class=\"dataframe\">\n",
       "  <thead>\n",
       "    <tr style=\"text-align: right;\">\n",
       "      <th></th>\n",
       "      <th>site_name_act</th>\n",
       "      <th>Max_Storage</th>\n",
       "    </tr>\n",
       "    <tr>\n",
       "      <th>site_name</th>\n",
       "      <th></th>\n",
       "      <th></th>\n",
       "    </tr>\n",
       "  </thead>\n",
       "  <tbody>\n",
       "    <tr>\n",
       "      <th>BON</th>\n",
       "      <td>Bonneville</td>\n",
       "      <td>0.537</td>\n",
       "    </tr>\n",
       "    <tr>\n",
       "      <th>BRN</th>\n",
       "      <td>Brownlee</td>\n",
       "      <td>1.470</td>\n",
       "    </tr>\n",
       "    <tr>\n",
       "      <th>CHJ</th>\n",
       "      <td>Chief Joseph</td>\n",
       "      <td>0.593</td>\n",
       "    </tr>\n",
       "    <tr>\n",
       "      <th>GCL</th>\n",
       "      <td>Grand Coulee</td>\n",
       "      <td>9.562</td>\n",
       "    </tr>\n",
       "    <tr>\n",
       "      <th>IHR</th>\n",
       "      <td>Ice Harbor</td>\n",
       "      <td>NaN</td>\n",
       "    </tr>\n",
       "    <tr>\n",
       "      <th>LWG</th>\n",
       "      <td>Lower Granite</td>\n",
       "      <td>NaN</td>\n",
       "    </tr>\n",
       "    <tr>\n",
       "      <th>PRD</th>\n",
       "      <td>Priest Rapids</td>\n",
       "      <td>0.191</td>\n",
       "    </tr>\n",
       "    <tr>\n",
       "      <th>RIS</th>\n",
       "      <td>Rock Island</td>\n",
       "      <td>0.131</td>\n",
       "    </tr>\n",
       "    <tr>\n",
       "      <th>RRH</th>\n",
       "      <td>Rocky Reach</td>\n",
       "      <td>0.390</td>\n",
       "    </tr>\n",
       "    <tr>\n",
       "      <th>WAN</th>\n",
       "      <td>Wanapum</td>\n",
       "      <td>0.796</td>\n",
       "    </tr>\n",
       "    <tr>\n",
       "      <th>WEL</th>\n",
       "      <td>Wells</td>\n",
       "      <td>0.500</td>\n",
       "    </tr>\n",
       "  </tbody>\n",
       "</table>\n",
       "</div>"
      ],
      "text/plain": [
       "           site_name_act  Max_Storage\n",
       "site_name                            \n",
       "BON           Bonneville        0.537\n",
       "BRN             Brownlee        1.470\n",
       "CHJ         Chief Joseph        0.593\n",
       "GCL         Grand Coulee        9.562\n",
       "IHR           Ice Harbor          NaN\n",
       "LWG        Lower Granite          NaN\n",
       "PRD        Priest Rapids        0.191\n",
       "RIS          Rock Island        0.131\n",
       "RRH          Rocky Reach        0.390\n",
       "WAN              Wanapum        0.796\n",
       "WEL                Wells        0.500"
      ]
     },
     "execution_count": 14,
     "metadata": {},
     "output_type": "execute_result"
    }
   ],
   "source": [
    "pnw = df[df[\"basin\"] == \"pnw\"][[\"site_name_act\", \"Max_Storage\"]]\n",
    "pnw[\"Max_Storage\"] /= 1000 * 1000\n",
    "pnw"
   ]
  },
  {
   "cell_type": "code",
   "execution_count": null,
   "metadata": {},
   "outputs": [],
   "source": []
  }
 ],
 "metadata": {
  "kernelspec": {
   "display_name": "Python 3.9.7 ('sry-env')",
   "language": "python",
   "name": "python3"
  },
  "language_info": {
   "codemirror_mode": {
    "name": "ipython",
    "version": 3
   },
   "file_extension": ".py",
   "mimetype": "text/x-python",
   "name": "python",
   "nbconvert_exporter": "python",
   "pygments_lexer": "ipython3",
   "version": "3.9.7"
  },
  "orig_nbformat": 4,
  "vscode": {
   "interpreter": {
    "hash": "47b25948a348032ae0785094e2977d27641e491bf5eb768e25af5ce6a2c29e04"
   }
  }
 },
 "nbformat": 4,
 "nbformat_minor": 2
}
