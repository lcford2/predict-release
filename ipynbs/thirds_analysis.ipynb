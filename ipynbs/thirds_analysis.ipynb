{
 "cells": [
  {
   "cell_type": "code",
   "execution_count": 15,
   "id": "2118ef18-eea3-404c-a50c-951adb91674a",
   "metadata": {},
   "outputs": [],
   "source": [
    "import glob\n",
    "import pandas as pd\n",
    "import matplotlib.pyplot as plt\n",
    "import seaborn as sns\n",
    "import re\n",
    "from sklearn.metrics import r2_score"
   ]
  },
  {
   "cell_type": "code",
   "execution_count": 3,
   "id": "f1bf52df-9674-4359-b576-c7f4fc569439",
   "metadata": {},
   "outputs": [],
   "source": [
    "files = glob.glob(\"../results/tclr_model/all/TD*_exhaustive/results.pickle\")"
   ]
  },
  {
   "cell_type": "code",
   "execution_count": 9,
   "id": "673d83a0-bce2-4b98-928e-ff2b68fdebe4",
   "metadata": {},
   "outputs": [],
   "source": [
    "def find_depth(file):\n",
    "    mat = re.search(r\"TD(.*)_RT_MS\", file)\n",
    "    return mat.groups(1)[0]"
   ]
  },
  {
   "cell_type": "code",
   "execution_count": 10,
   "id": "6fe8eabd-ab24-4de7-a692-441e8f72f153",
   "metadata": {},
   "outputs": [],
   "source": [
    "data = {}\n",
    "for file in files:\n",
    "    d = find_depth(file)\n",
    "    results = pd.read_pickle(file)[\"simmed_data\"]\n",
    "    data[d] = results"
   ]
  },
  {
   "cell_type": "code",
   "execution_count": 12,
   "id": "8e136bd7-769f-4af1-ab53-3dcd368bbd70",
   "metadata": {},
   "outputs": [],
   "source": [
    "def calc_binned_score(df):\n",
    "    df[\"pct\"] = df.groupby(\"site_name\")[\"actual\"].rank(pct=True)\n",
    "    def make_bin(x):\n",
    "        if x <= 1/3:\n",
    "            return 1\n",
    "        elif x <= 2/3:\n",
    "            return 2\n",
    "        else:\n",
    "            return 3\n",
    "    df[\"bin\"] = df[\"pct\"].apply(make_bin)\n",
    "    scores = df.groupby([\"site_name\", \"bin\"]).apply(lambda x: r2_score(x[\"actual\"], x[\"model\"]))\n",
    "    return scores"
   ]
  },
  {
   "cell_type": "code",
   "execution_count": 19,
   "id": "bcd127ee-8ac2-4dad-9b2d-102eabae921c",
   "metadata": {},
   "outputs": [],
   "source": [
    "binned_scores = {i: calc_binned_score(j) for i,j in data.items()}"
   ]
  },
  {
   "cell_type": "code",
   "execution_count": 21,
   "id": "facef84b-489a-4588-9ded-7b9e77ca336f",
   "metadata": {},
   "outputs": [],
   "source": [
    "binned_metrics = {i: {\"mean\":j.groupby(\"bin\").mean(), \"median\":j.groupby(\"bin\").median(), \"std\":j.groupby(\"bin\").std()} for i, j in binned_scores.items()}"
   ]
  },
  {
   "cell_type": "code",
   "execution_count": 26,
   "id": "63ee3eb7-8a40-4458-af48-184a8246b046",
   "metadata": {},
   "outputs": [],
   "source": [
    "bmedians = pd.DataFrame({i: j[\"median\"] for i, j in binned_metrics.items()})\n",
    "bmeans = pd.DataFrame({i: j[\"mean\"] for i, j in binned_metrics.items()})\n",
    "bstds = pd.DataFrame({i: j[\"std\"] for i, j in binned_metrics.items()})"
   ]
  },
  {
   "cell_type": "code",
   "execution_count": 33,
   "id": "44b6b02d-54ff-4fc4-8523-8e70cb71e258",
   "metadata": {},
   "outputs": [
    {
     "data": {
      "text/plain": [
       "7     6.927116e+02\n",
       "6     7.958739e+02\n",
       "4     1.148355e+03\n",
       "5     1.353148e+03\n",
       "3     1.702923e+03\n",
       "2     1.710745e+03\n",
       "1     3.264597e+03\n",
       "8     4.749573e+04\n",
       "9     1.928140e+05\n",
       "10    1.851979e+06\n",
       "dtype: float64"
      ]
     },
     "execution_count": 33,
     "metadata": {},
     "output_type": "execute_result"
    }
   ],
   "source": [
    "bstds.T.sort_values(by=[1, 2, 3]).mean(axis=1).sort_values()"
   ]
  },
  {
   "cell_type": "code",
   "execution_count": 37,
   "id": "cce64a53-d452-4dd7-8df3-582b1e59075d",
   "metadata": {},
   "outputs": [],
   "source": [
    "bs_df = []\n",
    "for key, df in binned_scores.items():\n",
    "    df = pd.DataFrame({\"NSE\":df})\n",
    "    df[\"depth\"] = int(key)\n",
    "    bs_df.append(df)\n",
    "bs_df = pd.concat(bs_df).reset_index()"
   ]
  },
  {
   "cell_type": "code",
   "execution_count": 40,
   "id": "a68c4c7d-12ea-49ad-8e27-f3547c3d31cb",
   "metadata": {},
   "outputs": [
    {
     "data": {
      "image/png": "[encoded data removed]",
      "text/plain": [
       "<Figure size 402.375x360 with 1 Axes>"
      ]
     },
     "metadata": {
      "needs_background": "light"
     },
     "output_type": "display_data"
    }
   ],
   "source": [
    "sns.catplot(data=bs_df, x=\"depth\", y=\"NSE\", hue=\"bin\", kind=\"box\")\n",
    "plt.show()"
   ]
  },
  {
   "cell_type": "code",
   "execution_count": null,
   "id": "8eb6e1b7-3358-4871-bb5c-31731c7f8862",
   "metadata": {},
   "outputs": [],
   "source": []
  }
 ],
 "metadata": {
  "kernelspec": {
   "display_name": "Python 3 (ipykernel)",
   "language": "python",
   "name": "python3"
  },
  "language_info": {
   "codemirror_mode": {
    "name": "ipython",
    "version": 3
   },
   "file_extension": ".py",
   "mimetype": "text/x-python",
   "name": "python",
   "nbconvert_exporter": "python",
   "pygments_lexer": "ipython3",
   "version": "3.9.7"
  }
 },
 "nbformat": 4,
 "nbformat_minor": 5
}
