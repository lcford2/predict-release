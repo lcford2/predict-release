{
 "cells": [
  {
   "cell_type": "code",
   "execution_count": 64,
   "metadata": {},
   "outputs": [],
   "source": [
    "import pandas as pd\n",
    "import matplotlib.pyplot as plt\n",
    "import seaborn as sns\n",
    "import pickle\n",
    "from sklearn.metrics import r2_score"
   ]
  },
  {
   "cell_type": "code",
   "execution_count": 4,
   "metadata": {},
   "outputs": [],
   "source": [
    "def read_mss_results(mss):\n",
    "    r_file = f\"../results/tclr_model_testing/all/TD4_MSS{mss:0.2f}_RT_MS_exhaustive/results.pickle\"\n",
    "    with open(r_file, \"rb\") as f:\n",
    "        results = pickle.load(f)\n",
    "    return results"
   ]
  },
  {
   "cell_type": "code",
   "execution_count": 5,
   "metadata": {},
   "outputs": [],
   "source": [
    "def combine_groups(results):\n",
    "    g = results[\"groups\"]\n",
    "    df = results[\"train_data\"]\n",
    "    df[\"group\"] = g\n",
    "    return df\n",
    "    "
   ]
  },
  {
   "cell_type": "code",
   "execution_count": 71,
   "metadata": {},
   "outputs": [],
   "source": [
    "mss = 0.02\n",
    "results = read_mss_results(mss)\n",
    "df = combine_groups(results)"
   ]
  },
  {
   "cell_type": "code",
   "execution_count": 9,
   "metadata": {},
   "outputs": [],
   "source": [
    "def plot_node_pcts(df):\n",
    "    counts = df[\"group\"].value_counts().sort_index() / df.shape[0]\n",
    "    fig, ax = plt.subplots(1, 1, figsize=(19,10))\n",
    "    counts.plot.bar(ax=ax)\n",
    "    plt.show()"
   ]
  },
  {
   "cell_type": "code",
   "execution_count": null,
   "metadata": {},
   "outputs": [],
   "source": [
    "plot_node_pcts(df)"
   ]
  },
  {
   "cell_type": "code",
   "execution_count": 12,
   "metadata": {},
   "outputs": [],
   "source": [
    "def find_single_res_bins(df):\n",
    "    site_groups = df.groupby(\"site_name\")[\"group\"].value_counts().unstack()\n",
    "    single_res_bins = site_groups.loc[:,site_groups.count(axis=0) == 1]\n",
    "    return single_res_bins.dropna(axis=0, how=\"all\")"
   ]
  },
  {
   "cell_type": "code",
   "execution_count": 13,
   "metadata": {},
   "outputs": [],
   "source": [
    "def find_single_bin_res(df):\n",
    "    site_groups = df.groupby(\"site_name\")[\"group\"].value_counts().unstack()\n",
    "    single_bin_res = site_groups.loc[site_groups.count(axis=1) == 1, :]\n",
    "    return single_bin_res.dropna(axis=1, how=\"all\")"
   ]
  },
  {
   "cell_type": "code",
   "execution_count": 56,
   "metadata": {},
   "outputs": [],
   "source": [
    "single_bin_res = find_single_bin_res(df)\n",
    "single_res_bin = find_single_res_bins(df)"
   ]
  },
  {
   "cell_type": "code",
   "execution_count": 57,
   "metadata": {},
   "outputs": [
    {
     "data": {
      "text/html": [
       "<div>\n",
       "<style scoped>\n",
       "    .dataframe tbody tr th:only-of-type {\n",
       "        vertical-align: middle;\n",
       "    }\n",
       "\n",
       "    .dataframe tbody tr th {\n",
       "        vertical-align: top;\n",
       "    }\n",
       "\n",
       "    .dataframe thead th {\n",
       "        text-align: right;\n",
       "    }\n",
       "</style>\n",
       "<table border=\"1\" class=\"dataframe\">\n",
       "  <thead>\n",
       "    <tr style=\"text-align: right;\">\n",
       "      <th>group</th>\n",
       "      <th>1</th>\n",
       "    </tr>\n",
       "    <tr>\n",
       "      <th>site_name</th>\n",
       "      <th></th>\n",
       "    </tr>\n",
       "  </thead>\n",
       "  <tbody>\n",
       "    <tr>\n",
       "      <th>Apalachia</th>\n",
       "      <td>7360.0</td>\n",
       "    </tr>\n",
       "    <tr>\n",
       "      <th>BON</th>\n",
       "      <td>3298.0</td>\n",
       "    </tr>\n",
       "    <tr>\n",
       "      <th>CHJ</th>\n",
       "      <td>2483.0</td>\n",
       "    </tr>\n",
       "    <tr>\n",
       "      <th>Chikamauga</th>\n",
       "      <td>7360.0</td>\n",
       "    </tr>\n",
       "    <tr>\n",
       "      <th>FtLoudoun</th>\n",
       "      <td>7360.0</td>\n",
       "    </tr>\n",
       "    <tr>\n",
       "      <th>FtPatrick</th>\n",
       "      <td>7360.0</td>\n",
       "    </tr>\n",
       "    <tr>\n",
       "      <th>GRAR</th>\n",
       "      <td>9048.0</td>\n",
       "    </tr>\n",
       "    <tr>\n",
       "      <th>Guntersville</th>\n",
       "      <td>7360.0</td>\n",
       "    </tr>\n",
       "    <tr>\n",
       "      <th>IHR</th>\n",
       "      <td>3016.0</td>\n",
       "    </tr>\n",
       "    <tr>\n",
       "      <th>KORR</th>\n",
       "      <td>9048.0</td>\n",
       "    </tr>\n",
       "    <tr>\n",
       "      <th>LWG</th>\n",
       "      <td>3150.0</td>\n",
       "    </tr>\n",
       "    <tr>\n",
       "      <th>MeltonH</th>\n",
       "      <td>7360.0</td>\n",
       "    </tr>\n",
       "    <tr>\n",
       "      <th>Nikajack</th>\n",
       "      <td>7360.0</td>\n",
       "    </tr>\n",
       "    <tr>\n",
       "      <th>Ocoee3</th>\n",
       "      <td>7360.0</td>\n",
       "    </tr>\n",
       "    <tr>\n",
       "      <th>PRD</th>\n",
       "      <td>4232.0</td>\n",
       "    </tr>\n",
       "    <tr>\n",
       "      <th>Pickwick</th>\n",
       "      <td>7360.0</td>\n",
       "    </tr>\n",
       "    <tr>\n",
       "      <th>RIS</th>\n",
       "      <td>2136.0</td>\n",
       "    </tr>\n",
       "    <tr>\n",
       "      <th>RRH</th>\n",
       "      <td>3052.0</td>\n",
       "    </tr>\n",
       "    <tr>\n",
       "      <th>WAN</th>\n",
       "      <td>2922.0</td>\n",
       "    </tr>\n",
       "    <tr>\n",
       "      <th>WEL</th>\n",
       "      <td>3160.0</td>\n",
       "    </tr>\n",
       "    <tr>\n",
       "      <th>WattsBar</th>\n",
       "      <td>7360.0</td>\n",
       "    </tr>\n",
       "    <tr>\n",
       "      <th>Wheeler</th>\n",
       "      <td>7360.0</td>\n",
       "    </tr>\n",
       "    <tr>\n",
       "      <th>Wilbur</th>\n",
       "      <td>7360.0</td>\n",
       "    </tr>\n",
       "    <tr>\n",
       "      <th>Wilson</th>\n",
       "      <td>7360.0</td>\n",
       "    </tr>\n",
       "  </tbody>\n",
       "</table>\n",
       "</div>"
      ],
      "text/plain": [
       "group              1\n",
       "site_name           \n",
       "Apalachia     7360.0\n",
       "BON           3298.0\n",
       "CHJ           2483.0\n",
       "Chikamauga    7360.0\n",
       "FtLoudoun     7360.0\n",
       "FtPatrick     7360.0\n",
       "GRAR          9048.0\n",
       "Guntersville  7360.0\n",
       "IHR           3016.0\n",
       "KORR          9048.0\n",
       "LWG           3150.0\n",
       "MeltonH       7360.0\n",
       "Nikajack      7360.0\n",
       "Ocoee3        7360.0\n",
       "PRD           4232.0\n",
       "Pickwick      7360.0\n",
       "RIS           2136.0\n",
       "RRH           3052.0\n",
       "WAN           2922.0\n",
       "WEL           3160.0\n",
       "WattsBar      7360.0\n",
       "Wheeler       7360.0\n",
       "Wilbur        7360.0\n",
       "Wilson        7360.0"
      ]
     },
     "execution_count": 57,
     "metadata": {},
     "output_type": "execute_result"
    }
   ],
   "source": [
    "single_bin_res"
   ]
  },
  {
   "cell_type": "code",
   "execution_count": 68,
   "metadata": {},
   "outputs": [],
   "source": [
    "single_res = [\"GRAR\", \"Ocoee3\", \"Parker\", \"WAN\"]"
   ]
  },
  {
   "cell_type": "code",
   "execution_count": 72,
   "metadata": {},
   "outputs": [
    {
     "data": {
      "text/plain": [
       "site_name\n",
       "GRAR      0.992589\n",
       "Ocoee3    0.879590\n",
       "Parker   -0.008259\n",
       "WAN       0.953208\n",
       "dtype: float64"
      ]
     },
     "execution_count": 72,
     "metadata": {},
     "output_type": "execute_result"
    }
   ],
   "source": [
    "idx = pd.IndexSlice\n",
    "results[\"simmed_data\"].loc[idx[single_res, :]].groupby(\"site_name\").apply(lambda x: r2_score(x[\"actual\"], x[\"model\"]))"
   ]
  },
  {
   "cell_type": "code",
   "execution_count": null,
   "metadata": {},
   "outputs": [],
   "source": []
  }
 ],
 "metadata": {
  "kernelspec": {
   "display_name": "Python 3.9.7 ('sry-env-2')",
   "language": "python",
   "name": "python3"
  },
  "language_info": {
   "codemirror_mode": {
    "name": "ipython",
    "version": 3
   },
   "file_extension": ".py",
   "mimetype": "text/x-python",
   "name": "python",
   "nbconvert_exporter": "python",
   "pygments_lexer": "ipython3",
   "version": "3.9.7"
  },
  "orig_nbformat": 4,
  "vscode": {
   "interpreter": {
    "hash": "c914801e78bedfc0a6a87e431b2e589efbb6b42bebdd8a12d12b21aa14945d63"
   }
  }
 },
 "nbformat": 4,
 "nbformat_minor": 2
}
